{
 "cells": [
  {
   "cell_type": "code",
   "execution_count": 4,
   "metadata": {},
   "outputs": [],
   "source": [
    "from qdrant_client import QdrantClient\n",
    "\n",
    "client = QdrantClient(url=\"http://localhost:6333\")"
   ]
  },
  {
   "cell_type": "code",
   "execution_count": 5,
   "metadata": {},
   "outputs": [
    {
     "data": {
      "text/plain": [
       "True"
      ]
     },
     "execution_count": 5,
     "metadata": {},
     "output_type": "execute_result"
    }
   ],
   "source": [
    "from qdrant_client.models import Distance, VectorParams\n",
    "\n",
    "client.create_collection(\n",
    "    collection_name=\"test_collection\",\n",
    "    vectors_config=VectorParams(size=4, distance=Distance.DOT),\n",
    ")"
   ]
  },
  {
   "cell_type": "code",
   "execution_count": 6,
   "metadata": {},
   "outputs": [
    {
     "name": "stdout",
     "output_type": "stream",
     "text": [
      "operation_id=0 status=<UpdateStatus.COMPLETED: 'completed'>\n"
     ]
    }
   ],
   "source": [
    "from qdrant_client.models import PointStruct\n",
    "\n",
    "operation_info = client.upsert(\n",
    "    collection_name=\"test_collection\",\n",
    "    wait=True,\n",
    "    points=[\n",
    "        PointStruct(id=1, vector=[0.05, 0.61, 0.76, 0.74], payload={\"city\": \"Berlin\"}),\n",
    "        PointStruct(id=2, vector=[0.19, 0.81, 0.75, 0.11], payload={\"city\": \"London\"}),\n",
    "        PointStruct(id=3, vector=[0.36, 0.55, 0.47, 0.94], payload={\"city\": \"Moscow\"}),\n",
    "        PointStruct(id=4, vector=[0.18, 0.01, 0.85, 0.80], payload={\"city\": \"New York\"}),\n",
    "        PointStruct(id=5, vector=[0.24, 0.18, 0.22, 0.44], payload={\"city\": \"Beijing\"}),\n",
    "        PointStruct(id=6, vector=[0.35, 0.08, 0.11, 0.44], payload={\"city\": \"Mumbai\"}),\n",
    "    ],\n",
    ")\n",
    "\n",
    "print(operation_info)"
   ]
  },
  {
   "cell_type": "code",
   "execution_count": 21,
   "metadata": {},
   "outputs": [
    {
     "name": "stdout",
     "output_type": "stream",
     "text": [
      "[ScoredPoint(id=2, version=0, score=0.871, payload={'city': 'London'}, vector=[0.19, 0.81, 0.75, 0.11], shard_key=None, order_value=None), ScoredPoint(id=5, version=1, score=0.572, payload={'city': 'London'}, vector=[0.24, 0.18, 0.22, 0.44], shard_key=None, order_value=None)]\n"
     ]
    }
   ],
   "source": [
    "from qdrant_client.models import Filter, FieldCondition, MatchValue\n",
    "\n",
    "search_result = client.query_points(\n",
    "    collection_name=\"test_collection\",\n",
    "    query=[0.2, 0.1, 0.9, 0.7],\n",
    "    query_filter=Filter(\n",
    "        must=[FieldCondition(key=\"city\", match=MatchValue(value=\"London\"))]\n",
    "    ),\n",
    "    with_payload=True,\n",
    "    limit=3,\n",
    "    with_vectors=True\n",
    ").points\n",
    "\n",
    "print(search_result)"
   ]
  },
  {
   "cell_type": "code",
   "execution_count": 5,
   "metadata": {},
   "outputs": [
    {
     "data": {
      "text/plain": [
       "SparseEmbedding(values=array([0.34575414, 0.37521228, 0.24505894, 0.19813086, 0.36655544]), indices=array([  55504253, 2015064403,  665770872,  823349694,  719869266]))"
      ]
     },
     "execution_count": 5,
     "metadata": {},
     "output_type": "execute_result"
    }
   ],
   "source": [
    "from qdrant_client import QdrantClient # type: ignore\n",
    "from qdrant_client.http import models # type: ignore\n",
    "from fastembed import TextEmbedding, SparseTextEmbedding # type: ignore\n",
    "\n",
    "\n",
    "sparse_embedding_model = SparseTextEmbedding(\"Qdrant/bm42-all-minilm-l6-v2-attentions\")\n",
    "\n",
    "# Dữ liệu mẫu\n",
    "documents = [\n",
    "    \"Xin chào, Tôi là Chiến\",\n",
    "]\n",
    "\n",
    "sparse_vectors = list(sparse_embedding_model.embed(documents))\n",
    "\n",
    "sparse_vectors[0]"
   ]
  },
  {
   "cell_type": "code",
   "execution_count": 1,
   "metadata": {},
   "outputs": [
    {
     "name": "stdout",
     "output_type": "stream",
     "text": [
      "Content: Xin chào, Tôi là Chiến\n",
      "Metadata: {'city': 'Hanoi', 'country': 'Vietnam'}\n",
      "Content: Tôi thích ăn phở\n",
      "Metadata: {'city': 'Hanoi', 'country': 'Vietnam'}\n"
     ]
    }
   ],
   "source": [
    "retrieved_info=[\n",
    "    {\n",
    "        \"content\": \"Xin chào, Tôi là Chiến\",\n",
    "        \"metadata\": {\n",
    "            \"city\": \"Hanoi\",\n",
    "            \"country\": \"Vietnam\"\n",
    "        }\n",
    "    },\n",
    "    {\n",
    "        \"content\": \"Tôi thích ăn phở\",\n",
    "        \"metadata\": {\n",
    "            \"city\": \"Hanoi\",\n",
    "            \"country\": \"Vietnam\"\n",
    "        }\n",
    "    }\n",
    "]\n",
    "\n",
    "retrieved_info_str = \"\\n\".join(\n",
    "                [f\"Content: {doc.get('content', 'N/A')}\\nMetadata: {doc.get('metadata', 'N/A')}\" \n",
    "                for doc in retrieved_info]\n",
    "            ) if retrieved_info else \"No relevant information found.\"\n",
    "print(retrieved_info_str)"
   ]
  }
 ],
 "metadata": {
  "kernelspec": {
   "display_name": "chatbot",
   "language": "python",
   "name": "python3"
  },
  "language_info": {
   "codemirror_mode": {
    "name": "ipython",
    "version": 3
   },
   "file_extension": ".py",
   "mimetype": "text/x-python",
   "name": "python",
   "nbconvert_exporter": "python",
   "pygments_lexer": "ipython3",
   "version": "3.11.11"
  }
 },
 "nbformat": 4,
 "nbformat_minor": 2
}
